{
 "cells": [
  {
   "cell_type": "code",
   "execution_count": 64,
   "metadata": {},
   "outputs": [],
   "source": [
    "import matplotlib.pyplot as plt\n",
    "%matplotlib notebook\n",
    "import matplotlib.patches as mpatches\n",
    "import numpy as np\n",
    "\n",
    "\n",
    "import mahotas as mh\n",
    "\n",
    "from skimage import io\n",
    "from skimage.segmentation import clear_border\n",
    "from skimage.measure import label, regionprops\n",
    "from skimage.morphology import closing, opening, square, disk\n",
    "from skimage.color import label2rgb, rgb2gray\n",
    "\n",
    "from skimage.filters import threshold_otsu, rank, threshold_adaptive\n",
    "from skimage.transform import hough_circle, hough_circle_peaks\n",
    "from skimage.feature import canny\n",
    "from skimage.draw import circle_perimeter\n",
    "from skimage.util import img_as_ubyte\n",
    "\n",
    "from skimage.filters import gaussian"
   ]
  },
  {
   "cell_type": "code",
   "execution_count": 65,
   "metadata": {
    "collapsed": true
   },
   "outputs": [],
   "source": [
    "def get_frac_thresh(arr, frac):\n",
    "    min_lum = np.min(arr)\n",
    "    max_lum = np.max(arr)\n",
    "    return min_lum + frac*(max_lum - min_lum)"
   ]
  },
  {
   "cell_type": "code",
   "execution_count": 104,
   "metadata": {
    "collapsed": true
   },
   "outputs": [],
   "source": [
    "def thresholding_and_segmentation(img_path):\n",
    "    \n",
    "    image = io.imread(img_path)\n",
    "    \n",
    "    image = rgb2gray(image)\n",
    "    \n",
    "    image = gaussian(image, 5)\n",
    "    \n",
    "    radius = 5\n",
    "    selem = disk(radius)\n",
    "\n",
    "    local_thre = threshold_adaptive(image, block_size=7, offset = 3)\n",
    "    thresholded = image > local_thre/8\n",
    "    \n",
    "    \n",
    "    bw = closing(thresholded)\n",
    "    label_image = label(bw)\n",
    "\n",
    "    fig, ax = plt.subplots(figsize=(10, 8))\n",
    "\n",
    "    ax.imshow(thresholded)\n",
    "\n",
    "    areas = np.array([])\n",
    "    \n",
    "    for region in regionprops(label_image):\n",
    "        minr, minc, maxr, maxc = region.bbox\n",
    "        rect = mpatches.Rectangle((minc, minr), maxc - minc, maxr - minr,\n",
    "                                      fill=False, edgecolor='red', linewidth=2)\n",
    "\n",
    "         # take regions with large enough areas\n",
    "        if region.area >= 5:\n",
    "            ax.add_patch(rect)\n",
    "            areas = np.append(areas, region.area)\n",
    "\n",
    "    ax.set_axis_off()\n",
    "\n",
    "    fig.tight_layout()\n",
    "    plt.show()"
   ]
  },
  {
   "cell_type": "code",
   "execution_count": 105,
   "metadata": {
    "scrolled": false
   },
   "outputs": [
    {
     "ename": "NameError",
     "evalue": "name 'gauu' is not defined",
     "output_type": "error",
     "traceback": [
      "\u001b[0;31m---------------------------------------------------------------------------\u001b[0m",
      "\u001b[0;31mNameError\u001b[0m                                 Traceback (most recent call last)",
      "\u001b[0;32m<ipython-input-105-5454d02e0517>\u001b[0m in \u001b[0;36m<module>\u001b[0;34m()\u001b[0m\n\u001b[1;32m      2\u001b[0m \u001b[0marc_path\u001b[0m \u001b[0;34m=\u001b[0m \u001b[0;34m\"/media/ula/D/adam_catfish/catfish_arc_tst.gif\"\u001b[0m\u001b[0;34m\u001b[0m\u001b[0m\n\u001b[1;32m      3\u001b[0m \u001b[0;34m\u001b[0m\u001b[0m\n\u001b[0;32m----> 4\u001b[0;31m \u001b[0mthresholding_and_segmentation\u001b[0m\u001b[0;34m(\u001b[0m\u001b[0marc_path\u001b[0m\u001b[0;34m)\u001b[0m\u001b[0;34m\u001b[0m\u001b[0m\n\u001b[0m",
      "\u001b[0;32m<ipython-input-104-22d76aa0bab6>\u001b[0m in \u001b[0;36mthresholding_and_segmentation\u001b[0;34m(img_path)\u001b[0m\n\u001b[1;32m      5\u001b[0m     \u001b[0mimage\u001b[0m \u001b[0;34m=\u001b[0m \u001b[0mrgb2gray\u001b[0m\u001b[0;34m(\u001b[0m\u001b[0mimage\u001b[0m\u001b[0;34m)\u001b[0m\u001b[0;34m\u001b[0m\u001b[0m\n\u001b[1;32m      6\u001b[0m \u001b[0;34m\u001b[0m\u001b[0m\n\u001b[0;32m----> 7\u001b[0;31m     \u001b[0mimage\u001b[0m \u001b[0;34m=\u001b[0m \u001b[0mgauu\u001b[0m\u001b[0;34m\u001b[0m\u001b[0m\n\u001b[0m\u001b[1;32m      8\u001b[0m \u001b[0;34m\u001b[0m\u001b[0m\n\u001b[1;32m      9\u001b[0m     \u001b[0mradius\u001b[0m \u001b[0;34m=\u001b[0m \u001b[0;36m5\u001b[0m\u001b[0;34m\u001b[0m\u001b[0m\n",
      "\u001b[0;31mNameError\u001b[0m: name 'gauu' is not defined"
     ]
    }
   ],
   "source": [
    "homer_path = \"/media/ula/D/adam_catfish/catfish_homer_tst.gif\"\n",
    "arc_path = \"/media/ula/D/adam_catfish/catfish_arc_tst.gif\"\n",
    "\n",
    "thresholding_and_segmentation(arc_path)"
   ]
  },
  {
   "cell_type": "code",
   "execution_count": null,
   "metadata": {
    "collapsed": true
   },
   "outputs": [],
   "source": []
  }
 ],
 "metadata": {
  "kernelspec": {
   "display_name": "Python 3",
   "language": "python",
   "name": "python3"
  },
  "language_info": {
   "codemirror_mode": {
    "name": "ipython",
    "version": 3
   },
   "file_extension": ".py",
   "mimetype": "text/x-python",
   "name": "python",
   "nbconvert_exporter": "python",
   "pygments_lexer": "ipython3",
   "version": "3.6.3"
  }
 },
 "nbformat": 4,
 "nbformat_minor": 2
}
