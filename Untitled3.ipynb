{
 "cells": [
  {
   "cell_type": "code",
   "execution_count": 9,
   "metadata": {
    "collapsed": true
   },
   "outputs": [],
   "source": [
    "def histogram(image, nbins=256, source_range='image', normalize=False):\n",
    "    \"\"\"Return histogram of image.\n",
    "    Unlike `numpy.histogram`, this function returns the centers of bins and\n",
    "    does not rebin integer arrays. For integer arrays, each integer value has\n",
    "    its own bin, which improves speed and intensity-resolution.\n",
    "    The histogram is computed on the flattened image: for color images, the\n",
    "    function should be used separately on each channel to obtain a histogram\n",
    "    for each color channel.\n",
    "    Parameters\n",
    "    ----------\n",
    "    image : array\n",
    "        Input image.\n",
    "    nbins : int, optional\n",
    "        Number of bins used to calculate histogram. This value is ignored for\n",
    "        integer arrays.\n",
    "    source_range : string, optional\n",
    "        'image' (default) determines the range from the input image.\n",
    "        'dtype' determines the range from the expected range of the images\n",
    "        of that data type.\n",
    "    normalize : bool, optional\n",
    "        If True, normalize the histogram by the sum of its values.\n",
    "    Returns\n",
    "    -------\n",
    "    hist : array\n",
    "        The values of the histogram.\n",
    "    bin_centers : array\n",
    "        The values at the center of the bins.\n",
    "    See Also\n",
    "    --------\n",
    "    cumulative_distribution\n",
    "    Examples\n",
    "    --------\n",
    "    >>> from skimage import data, exposure, img_as_float\n",
    "    >>> image = img_as_float(data.camera())\n",
    "    >>> np.histogram(image, bins=2)\n",
    "    (array([107432, 154712]), array([0. , 0.5, 1. ]))\n",
    "    >>> exposure.histogram(image, nbins=2)\n",
    "    (array([107432, 154712]), array([0.25, 0.75]))\n",
    "    \"\"\"\n",
    "    \n",
    "    # For integer types, histogramming with bincount is more efficient.\n",
    "    if np.issubdtype(image.dtype, np.integer):\n",
    "        hist, bin_centers = _bincount_histogram(image, source_range)\n",
    "    else:\n",
    "        if source_range == 'image':\n",
    "            hist_range = None\n",
    "        elif source_range == 'dtype':\n",
    "            hist_range = dtype_limits(image, clip_negative=False)\n",
    "        else:\n",
    "            ValueError('Wrong value for the `source_range` argument')\n",
    "        hist, bin_edges = np.histogram(image, bins=nbins, range=None)\n",
    "        bin_centers = ((bin_edges[:-1] + bin_edges[1:]) / 2.\n",
    "\n",
    "    if normalize:\n",
    "        hist = hist / np.sum(hist)\n",
    "    return hist, bin_centers\n"
   ]
  },
  {
   "cell_type": "code",
   "execution_count": 10,
   "metadata": {},
   "outputs": [
    {
     "ename": "NameError",
     "evalue": "name 'np' is not defined",
     "output_type": "error",
     "traceback": [
      "\u001b[0;31m---------------------------------------------------------------------------\u001b[0m",
      "\u001b[0;31mNameError\u001b[0m                                 Traceback (most recent call last)",
      "\u001b[0;32m<ipython-input-10-5bea27f1f6e3>\u001b[0m in \u001b[0;36m<module>\u001b[0;34m()\u001b[0m\n\u001b[0;32m----> 1\u001b[0;31m \u001b[0mhistogram\u001b[0m\u001b[0;34m(\u001b[0m\u001b[0;34m[\u001b[0m\u001b[0;36m1\u001b[0m\u001b[0;34m,\u001b[0m\u001b[0;36m2\u001b[0m\u001b[0;34m,\u001b[0m\u001b[0;36m3\u001b[0m\u001b[0;34m]\u001b[0m\u001b[0;34m)\u001b[0m\u001b[0;34m\u001b[0m\u001b[0m\n\u001b[0m",
      "\u001b[0;32m<ipython-input-9-5085c249d2b2>\u001b[0m in \u001b[0;36mhistogram\u001b[0;34m(image, nbins, source_range, normalize)\u001b[0m\n\u001b[1;32m     40\u001b[0m \u001b[0;34m\u001b[0m\u001b[0m\n\u001b[1;32m     41\u001b[0m     \u001b[0;31m# For integer types, histogramming with bincount is more efficient.\u001b[0m\u001b[0;34m\u001b[0m\u001b[0;34m\u001b[0m\u001b[0m\n\u001b[0;32m---> 42\u001b[0;31m     \u001b[0;32mif\u001b[0m \u001b[0mnp\u001b[0m\u001b[0;34m.\u001b[0m\u001b[0missubdtype\u001b[0m\u001b[0;34m(\u001b[0m\u001b[0mimage\u001b[0m\u001b[0;34m.\u001b[0m\u001b[0mdtype\u001b[0m\u001b[0;34m,\u001b[0m \u001b[0mnp\u001b[0m\u001b[0;34m.\u001b[0m\u001b[0minteger\u001b[0m\u001b[0;34m)\u001b[0m\u001b[0;34m:\u001b[0m\u001b[0;34m\u001b[0m\u001b[0m\n\u001b[0m\u001b[1;32m     43\u001b[0m         \u001b[0mhist\u001b[0m\u001b[0;34m,\u001b[0m \u001b[0mbin_centers\u001b[0m \u001b[0;34m=\u001b[0m \u001b[0m_bincount_histogram\u001b[0m\u001b[0;34m(\u001b[0m\u001b[0mimage\u001b[0m\u001b[0;34m,\u001b[0m \u001b[0msource_range\u001b[0m\u001b[0;34m)\u001b[0m\u001b[0;34m\u001b[0m\u001b[0m\n\u001b[1;32m     44\u001b[0m     \u001b[0;32melse\u001b[0m\u001b[0;34m:\u001b[0m\u001b[0;34m\u001b[0m\u001b[0m\n",
      "\u001b[0;31mNameError\u001b[0m: name 'np' is not defined"
     ]
    }
   ],
   "source": [
    "histogram([1,2,3])"
   ]
  },
  {
   "cell_type": "code",
   "execution_count": 5,
   "metadata": {
    "collapsed": true
   },
   "outputs": [],
   "source": [
    "def threshold_otsu(image, nbins=256):\n",
    "    \"\"\"Return threshold value based on Otsu's method.\n",
    "    Parameters\n",
    "    ----------\n",
    "    image : (N, M) ndarray\n",
    "        Grayscale input image.\n",
    "    nbins : int, optional\n",
    "        Number of bins used to calculate histogram. This value is ignored for\n",
    "        integer arrays.\n",
    "    Returns\n",
    "    -------\n",
    "    threshold : float\n",
    "        Upper threshold value. All pixels with an intensity higher than\n",
    "        this value are assumed to be foreground.\n",
    "    References\n",
    "    ----------\n",
    "    .. [1] Wikipedia, https://en.wikipedia.org/wiki/Otsu's_Method\n",
    "    Examples\n",
    "    --------\n",
    "    >>> from skimage.data import camera\n",
    "    >>> image = camera()\n",
    "    >>> thresh = threshold_otsu(image)\n",
    "    >>> binary = image <= thresh\n",
    "    Notes\n",
    "    -----\n",
    "    The input image must be grayscale.\n",
    "    \"\"\"\n",
    "\n",
    "\n",
    "\n",
    "\n",
    "    hist, bin_centers = histogram(image, nbins, source_range='image')\n",
    "    hist = hist.astype(float)\n",
    "\n",
    "    # class probabilities for all possible thresholds\n",
    "    weight1 = np.cumsum(hist)\n",
    "    weight2 = np.cumsum(hist[::-1])[::-1]\n",
    "    # class means for all possible thresholds\n",
    "    mean1 = np.cumsum(hist * bin_centers) / weight1\n",
    "    mean2 = (np.cumsum((hist * bin_centers)[::-1]) / weight2[::-1])[::-1]\n",
    "\n",
    "    # Clip ends to align class 1 and class 2 variables:\n",
    "    # The last value of ``weight1``/``mean1`` should pair with zero values in\n",
    "    # ``weight2``/``mean2``, which do not exist.\n",
    "    variance12 = weight1[:-1] * weight2[1:] * (mean1[:-1] - mean2[1:]) ** 2\n",
    "\n",
    "    idx = np.argmax(variance12)\n",
    "    threshold = bin_centers[:-1][idx]\n",
    "    return threshold\n"
   ]
  },
  {
   "cell_type": "code",
   "execution_count": 6,
   "metadata": {},
   "outputs": [
    {
     "ename": "NameError",
     "evalue": "name 'histogram' is not defined",
     "output_type": "error",
     "traceback": [
      "\u001b[0;31m---------------------------------------------------------------------------\u001b[0m",
      "\u001b[0;31mNameError\u001b[0m                                 Traceback (most recent call last)",
      "\u001b[0;32m<ipython-input-6-98080324d47f>\u001b[0m in \u001b[0;36m<module>\u001b[0;34m()\u001b[0m\n\u001b[0;32m----> 1\u001b[0;31m \u001b[0mthreshold_otsu\u001b[0m\u001b[0;34m(\u001b[0m\u001b[0;34m[\u001b[0m\u001b[0;36m1\u001b[0m\u001b[0;34m,\u001b[0m\u001b[0;36m2\u001b[0m\u001b[0;34m,\u001b[0m\u001b[0;36m3\u001b[0m\u001b[0;34m]\u001b[0m\u001b[0;34m)\u001b[0m\u001b[0;34m\u001b[0m\u001b[0m\n\u001b[0m",
      "\u001b[0;32m<ipython-input-5-9f5891c82884>\u001b[0m in \u001b[0;36mthreshold_otsu\u001b[0;34m(image, nbins)\u001b[0m\n\u001b[1;32m     30\u001b[0m \u001b[0;34m\u001b[0m\u001b[0m\n\u001b[1;32m     31\u001b[0m \u001b[0;34m\u001b[0m\u001b[0m\n\u001b[0;32m---> 32\u001b[0;31m     \u001b[0mhist\u001b[0m\u001b[0;34m,\u001b[0m \u001b[0mbin_centers\u001b[0m \u001b[0;34m=\u001b[0m \u001b[0mhistogram\u001b[0m\u001b[0;34m(\u001b[0m\u001b[0mimage\u001b[0m\u001b[0;34m,\u001b[0m \u001b[0mnbins\u001b[0m\u001b[0;34m,\u001b[0m \u001b[0msource_range\u001b[0m\u001b[0;34m=\u001b[0m\u001b[0;34m'image'\u001b[0m\u001b[0;34m)\u001b[0m\u001b[0;34m\u001b[0m\u001b[0m\n\u001b[0m\u001b[1;32m     33\u001b[0m     \u001b[0mhist\u001b[0m \u001b[0;34m=\u001b[0m \u001b[0mhist\u001b[0m\u001b[0;34m.\u001b[0m\u001b[0mastype\u001b[0m\u001b[0;34m(\u001b[0m\u001b[0mfloat\u001b[0m\u001b[0;34m)\u001b[0m\u001b[0;34m\u001b[0m\u001b[0m\n\u001b[1;32m     34\u001b[0m \u001b[0;34m\u001b[0m\u001b[0m\n",
      "\u001b[0;31mNameError\u001b[0m: name 'histogram' is not defined"
     ]
    }
   ],
   "source": [
    "threshold_otsu([1,2,3])"
   ]
  },
  {
   "cell_type": "code",
   "execution_count": 11,
   "metadata": {},
   "outputs": [
    {
     "ename": "SyntaxError",
     "evalue": "invalid syntax (<ipython-input-11-055d5a9aef8f>, line 1)",
     "output_type": "error",
     "traceback": [
      "\u001b[0;36m  File \u001b[0;32m\"<ipython-input-11-055d5a9aef8f>\"\u001b[0;36m, line \u001b[0;32m1\u001b[0m\n\u001b[0;31m    rois = [][]\u001b[0m\n\u001b[0m              ^\u001b[0m\n\u001b[0;31mSyntaxError\u001b[0m\u001b[0;31m:\u001b[0m invalid syntax\n"
     ]
    }
   ],
   "source": [
    "rois = [][]"
   ]
  },
  {
   "cell_type": "code",
   "execution_count": null,
   "metadata": {
    "collapsed": true
   },
   "outputs": [],
   "source": []
  }
 ],
 "metadata": {
  "kernelspec": {
   "display_name": "Python 3",
   "language": "python",
   "name": "python3"
  },
  "language_info": {
   "codemirror_mode": {
    "name": "ipython",
    "version": 3
   },
   "file_extension": ".py",
   "mimetype": "text/x-python",
   "name": "python",
   "nbconvert_exporter": "python",
   "pygments_lexer": "ipython3",
   "version": "3.6.3"
  }
 },
 "nbformat": 4,
 "nbformat_minor": 2
}
