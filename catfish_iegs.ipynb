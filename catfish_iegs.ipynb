{
 "cells": [
  {
   "cell_type": "code",
   "execution_count": 1,
   "metadata": {},
   "outputs": [
    {
     "name": "stderr",
     "output_type": "stream",
     "text": [
      "/home/user/.local/lib/python3.8/site-packages/skimage/io/manage_plugins.py:23: UserWarning: Your installed pillow version is < 7.1.0. Several security issues (CVE-2020-11538, CVE-2020-10379, CVE-2020-10994, CVE-2020-10177) have been fixed in pillow 7.1.0 or higher. We recommend to upgrade this library.\n",
      "  from .collection import imread_collection_wrapper\n"
     ]
    }
   ],
   "source": [
    "import matplotlib.pyplot as plt\n",
    "%matplotlib notebook\n",
    "import matplotlib.patches as mpatches\n",
    "import numpy as np\n",
    "import math\n",
    "\n",
    "import mahotas as mh\n",
    "import cv2\n",
    "from PIL import Image\n",
    "\n",
    "import copy, os\n",
    "\n",
    "from skimage import io, exposure\n",
    "from skimage.segmentation import clear_border\n",
    "from skimage.measure import label, regionprops\n",
    "from skimage.morphology import closing, opening, square, disk\n",
    "from skimage.draw import disk as pdisk\n",
    "from skimage.color import label2rgb, rgb2gray\n",
    "\n",
    "from scipy import ndimage as ndi\n",
    "\n",
    "from skimage.morphology import watershed\n",
    "from skimage.feature import peak_local_max\n",
    "\n",
    "from skimage.filters import threshold_local, threshold_otsu, threshold_multiotsu, rank\n",
    "from skimage.filters import sobel\n",
    "\n",
    "from scipy.stats import skew\n",
    "from scipy.signal import argrelextrema\n"
   ]
  },
  {
   "cell_type": "code",
   "execution_count": 2,
   "metadata": {},
   "outputs": [],
   "source": [
    "PRECISION = 50"
   ]
  },
  {
   "cell_type": "code",
   "execution_count": 3,
   "metadata": {},
   "outputs": [],
   "source": [
    "class IegImgParams(): \n",
    "    def __init__(self, path, thre, skewness, bgr):\n",
    "        self.path = path\n",
    "        self.thre = thre\n",
    "        self.skewness = skewness\n",
    "        self.bgr = bgr"
   ]
  },
  {
   "cell_type": "code",
   "execution_count": 4,
   "metadata": {},
   "outputs": [],
   "source": [
    "class Approximation(): \n",
    "    def __init__(self, reg_props, approx_patch, intensity,  idno):\n",
    "        self.reg_props = reg_props\n",
    "        self.approx_patch = approx_patch\n",
    "        self.intensity = intensity\n",
    "        self.idno = idno"
   ]
  },
  {
   "cell_type": "code",
   "execution_count": 5,
   "metadata": {},
   "outputs": [],
   "source": [
    "def background_filter(flattened_img):\n",
    "    hist, bins = np.histogram(flattened_img, int(pow(PRECISION, 2)/20))\n",
    "    mode_idx = np.argmax(hist)\n",
    "    mode = bins[mode_idx]\n",
    "    return mode"
   ]
  },
  {
   "cell_type": "code",
   "execution_count": 6,
   "metadata": {},
   "outputs": [],
   "source": [
    "def reflect(image_ts):\n",
    "    height = image_ts.shape[0]\n",
    "    image_ts = np.transpose(image_ts)\n",
    "    to_ret = np.copy(image_ts)\n",
    "    for col_no, column in enumerate(image_ts):\n",
    "        nonzero = False\n",
    "        idx = 0\n",
    "        while not nonzero and idx < height:\n",
    "            nonzero = column[idx] > 0\n",
    "            idx += 1\n",
    "        start_idx = idx - 1\n",
    "        while nonzero and idx < height:\n",
    "            nonzero = column[idx] > 0\n",
    "            idx += 1\n",
    "        stop_idx = idx - 1\n",
    "        reflection = np.flip(column[start_idx:stop_idx])\n",
    "        reflect_offset_up = start_idx - len(reflection)\n",
    "        reflect_offset_down = stop_idx + len(reflection)\n",
    "        to_ret[col_no][max(0, reflect_offset_up):start_idx] = reflection[max(0, -reflect_offset_up):]\n",
    "        to_ret[col_no][stop_idx:min(reflect_offset_down, height)] = reflection[:min(len(reflection)+1, height - stop_idx)]\n",
    "    return np.transpose(to_ret)"
   ]
  },
  {
   "cell_type": "code",
   "execution_count": 7,
   "metadata": {},
   "outputs": [],
   "source": [
    "def calculate_ieg_segm_mask(image_ts):\n",
    "    reflected = reflect(image_ts)\n",
    "    \n",
    "    background = ndi.generic_filter(reflected, background_filter, size=50)\n",
    "    skewness = skew(image_ts[image_ts>0])\n",
    "    mask = image_ts > (threshold_otsu(image_ts[image_ts>0])*5/skewness + background)\n",
    "    \n",
    "    return threshold_otsu(image_ts[image_ts>0]), background, skewness\n",
    "\n",
    "\n",
    "\n",
    "def calculate_ieg_segm_params(image_ts):\n",
    "    \n",
    "    reflected = reflect(image_ts)\n",
    "    background = ndi.generic_filter(reflected, background_filter, size=PRECISION)\n",
    "    skewness = skew(image_ts[image_ts>0])\n",
    "    \n",
    "    \n",
    "    return threshold_otsu(image_ts[image_ts>0]), background, skewness"
   ]
  },
  {
   "cell_type": "code",
   "execution_count": 8,
   "metadata": {},
   "outputs": [],
   "source": [
    "def ieg_segmentation(image_ts, thresh_down, thresh_up, thresh_range, mask): \n",
    "\n",
    "        \n",
    "    elev_map = sobel(image_ts)\n",
    "    distance = ndi.distance_transform_edt(mask)\n",
    "    local_maxi = peak_local_max(distance, indices=False, footprint=np.ones((3,3)),\n",
    "                                labels=mask)\n",
    "    markers = ndi.label(local_maxi)[0]\n",
    "    labels = watershed(-elev_map, markers, mask=mask)\n",
    "    label_image = label(labels, connectivity = 1)\n",
    "    \n",
    "    \n",
    "    masked = np.ma.masked_array(data = image_ts, mask = mask, fill_value = 0).filled()\n",
    "\n",
    "    intensities_normalized = np.array([])\n",
    "    dots = np.array([])\n",
    "    \n",
    "    for region in regionprops(label_image, intensity_image=image_ts):\n",
    "        areas = np.append(areas, region.area)\n",
    "        reg_app_w_bgr = pdisk(region.centroid, 7, shape = image_ts.shape)\n",
    "        reg_approx = pdisk(region.centroid, 5, shape = image_ts.shape)\n",
    "        reg_intensity = 2*np.sum(image_ts[reg_approx])-np.sum(image_ts[reg_app_w_bgr])\n",
    "        circ = mpatches.Circle((region.centroid[1], region.centroid[0]), 5, \n",
    "                               fill=False, edgecolor=color, linewidth=2)\n",
    "        new_dot = Approximation(region, copy.copy(circ), reg_intensity, len(dots))\n",
    "        intensities_normalized = np.append(intensities_normalized, reg_intensity)\n",
    "\n",
    "\n",
    "\n",
    "    return dots, intensities_normalized"
   ]
  },
  {
   "cell_type": "code",
   "execution_count": 9,
   "metadata": {},
   "outputs": [],
   "source": [
    "scan_path_root = \"/mnt/ula/catfish/test_scans/\"\n",
    "\n",
    "suffix = \"/2.tif\"\n",
    "overlay_suffix = \"/overlay2.tif\""
   ]
  },
  {
   "cell_type": "code",
   "execution_count": null,
   "metadata": {},
   "outputs": [
    {
     "name": "stdout",
     "output_type": "stream",
     "text": [
      "/mnt/ula/catfish/test_scans/CA1_left_glass_19_rat_16_hipp_left_skan_2019-10-11_135612\n",
      "/mnt/ula/catfish/test_scans/CA1_right_glass_1_rat_3_hipp_right_skan_2019-10-08_135307\n",
      "/mnt/ula/catfish/test_scans/CA1_right_glass_19_rat_14_hipp_right_skan_2019-10-11_151922\n",
      "/mnt/ula/catfish/test_scans/CA1_right_glass_23_rat_20_hipp_right_skan_2019-10-14_130039\n",
      "/mnt/ula/catfish/test_scans/CA1_left_glass_19_rat_13_hipp_left_skan_2019-10-11_114708\n",
      "/mnt/ula/catfish/test_scans/CA1_right_glass_1_rat_2_hipp_right_skan_2019-10-08_113103\n",
      "/mnt/ula/catfish/test_scans/CA1_left_glass_23_rat_17_hipp_left_skan_2019-10-14_101906\n",
      "/mnt/ula/catfish/test_scans/CA1_right_glass_23_rat_19_hipp_right_skan_2019-10-14_114530\n",
      "/mnt/ula/catfish/test_scans/CA1_left_glass_1_rat_3_hipp_left_skan_2019-10-08_130731\n",
      "/mnt/ula/catfish/test_scans/CA1_right_glass_15_rat_11_hipp_right_skan_2019-10-11_102835\n",
      "/mnt/ula/catfish/test_scans/CA1_right_glass_10_rat_6_hipp_right_skan_2019-10-09_114941\n",
      "/mnt/ula/catfish/test_scans/CA1_right_glass_1_rat_4_hipp_right_skan_2019-10-08_151512\n",
      "/mnt/ula/catfish/test_scans/CA1_left_glass_23_rat_18_hipp_left_skan_2019-10-14_144112\n",
      "/mnt/ula/catfish/test_scans/CA1_left_glass_10_rat_7_hipp_left_skan_2019-10-08_155517\n",
      "/mnt/ula/catfish/test_scans/CA1_left_glass_23_rat_19_hipp_left_skan_2019-10-14_110038\n",
      "/mnt/ula/catfish/test_scans/CA1_right_glass_19_rat_16_hipp_right_skan_2019-10-11_143612\n",
      "/mnt/ula/catfish/test_scans/CA1_right_glass_10_rat_7_hipp_right_skan_2019-10-09_094010\n",
      "/mnt/ula/catfish/test_scans/CA1_right_glass_1_rat_1_hipp_right_skan_2019-10-08_123824\n",
      "/mnt/ula/catfish/test_scans/CA1_right_glass_15_rat_9_hipp_right_skan_2019-10-09_145057\n"
     ]
    }
   ],
   "source": [
    "#MAIN loop to walk through img folder, looking for FOLDERS\n",
    "results = np.array([])\n",
    "\n",
    "\n",
    "for filename in os.listdir(scan_path_root):\n",
    "    if os.path.isdir(scan_path_root + filename):\n",
    "        print(scan_path_root + filename)\n",
    "        img_path = scan_path_root + filename + suffix\n",
    "        ieg_img = io.imread(img_path)\n",
    "        thre, background, skewness = calculate_ieg_segm_params(ieg_img)\n",
    "        res = IegImgParams(scan_path_root + filename, thre, skewness, background)\n",
    "        results = np.append(results, res)"
   ]
  },
  {
   "cell_type": "code",
   "execution_count": null,
   "metadata": {},
   "outputs": [],
   "source": [
    "plt.imshow(background)\n",
    "plt.plot()"
   ]
  },
  {
   "cell_type": "code",
   "execution_count": null,
   "metadata": {},
   "outputs": [],
   "source": [
    "pow(50, 2)/20"
   ]
  },
  {
   "cell_type": "code",
   "execution_count": null,
   "metadata": {},
   "outputs": [],
   "source": [
    "np.array([[1,2,3,4,5],[1,2,3,4,5],[1,2,3,4,5],[1,2,3,4,5],[1,2,3,4,5]])[:3,:3]"
   ]
  },
  {
   "cell_type": "code",
   "execution_count": null,
   "metadata": {},
   "outputs": [],
   "source": [
    "hist, bins = np.histogram(flattened_img, pow(PRECISION, 2)/20)"
   ]
  }
 ],
 "metadata": {
  "kernelspec": {
   "display_name": "Python 3",
   "language": "python",
   "name": "python3"
  },
  "language_info": {
   "codemirror_mode": {
    "name": "ipython",
    "version": 3
   },
   "file_extension": ".py",
   "mimetype": "text/x-python",
   "name": "python",
   "nbconvert_exporter": "python",
   "pygments_lexer": "ipython3",
   "version": "3.8.5"
  }
 },
 "nbformat": 4,
 "nbformat_minor": 4
}
